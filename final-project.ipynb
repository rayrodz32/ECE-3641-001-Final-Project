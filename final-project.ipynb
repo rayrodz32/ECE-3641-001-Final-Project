import sys
import time
import rospy
from kinematics import ik_transform
from armpi_pro import bus_servo_control
from chassis_control.msg import *
from hiwonder_servo_msgs.msg import MultiRawIdPosDur

if sys.version_info.major == 2:
    print('Please run this program with python3!')
    sys.exit(0)

ik = ik_transform.ArmIK()
 
start = True
def stop():
    global start

    start = False
    #print('关闭中...')
    set_velocity.publish(0,0,0)
    target = ik.setPitchRanges((0.05, 0.20, 0.10), -145, -180, 0)
# first parameters are the x,y,z coordinates (0.05,0.20,0.10)
# second paramters is the pitch angle(-145,-180,0)
# third and fourth parameter are the range in pitch angle
    if target:
        servo_data = target[1]
        bus_servo_control.set_servos(joints_pub, 1500, ((1, 200), (2, 500), (3, servo_data['servo3']),
                        (4, servo_data['servo4']),(5, servo_data['servo5']),(6, servo_data['servo6'])))
if __name__ == '__main__':

    rospy.init_node('kinematics_demo','car_drifting_demo','car_move_demo',log_level=rospy.DEBUG)# 3 programs running in here
    rospy.on_shutdown(stop)
    joints_pub = rospy.Publisher('/servo_controllers/port_id_1/multi_id_pos_dur', MultiRawIdPosDur, queue_size=1)
    set_velocity = rospy.Publisher('/chassis_control/set_velocity', SetVelocity, queue_size=1)
    rospy.sleep(0.2) 

#drift
    if start:
        set_velocity.publish(80,180,-0.4) 
        rospy.sleep(3)
        set_velocity.publish(80,-180,0.4)
        rospy.sleep(3) 
        set_velocity.publish(0,0,0)  
    time.sleep(1)
#comand1
    target = ik.setPitchRanges((0.15, 0.12, 0.15), -40, -110, 0)#changed
    if target:
        servo_data = target[1] 				           #changed to 750 from 500
        bus_servo_control.set_servos(joints_pub, 1500, ((1, 200), (2, 500), (3, servo_data['servo3']),
                        (4, servo_data['servo4']),(5, servo_data['servo5']),(6, servo_data['servo6'])))
    time.sleep(1)
#comand2
    target = ik.setPitchRanges((0.05, -0.20, 0.10), -145, -180, 0)
    if target:
        servo_data = target[1]
        bus_servo_control.set_servos(joints_pub, 1500, ((1, 200), (2, 500), (3, servo_data['servo3']),
                        (4, servo_data['servo4']),(5, servo_data['servo5']),(6, servo_data['servo6'])))
    time.sleep(1)
#comand3
    target = ik.setPitchRanges((-0.15, 0.12, 0.15), -40, -110, 0)
    if target:
        servo_data = target[1]						
        bus_servo_control.set_servos(joints_pub, 1500, ((1, 200), (2, 500), (3, servo_data['servo3']),
                        (4, servo_data['servo4']),(5, servo_data['servo5']),(6, servo_data['servo6'])))
    time.sleep(1)
#comand4
    target = ik.setPitchRanges((0.05, -0.20, 0.10), -145, -180, 0)
    if target:
        servo_data = target[1]
        bus_servo_control.set_servos(joints_pub, 1500, ((1, 200), (2, 500), (3, servo_data['servo3']),
                        (4, servo_data['servo4']),(5, servo_data['servo5']),(6, servo_data['servo6'])))
    time.sleep(1)
#drift2
    if start:
        set_velocity.publish(70,0,-0.3) 
        rospy.sleep(3) 
        set_velocity.publish(70,-90,0.3)
        rospy.sleep(3) 
        set_velocity.publish(0,0,0)  
    time.sleep(1)
#comand5
    target = ik.setPitchRanges((0.15, 0.12, 0.15), -40, -110, 0)
    if target:
        servo_data = target[1]
        bus_servo_control.set_servos(joints_pub, 1500, ((1, 200), (2, 500), (3, servo_data['servo3']),
                        (4, servo_data['servo4']),(5, servo_data['servo5']),(6, servo_data['servo6'])))
    time.sleep(1)
#comand6
    target = ik.setPitchRanges((0.05, 0.20, 0.10), -145, -180, 0)
    if target:
        servo_data = target[1]
        bus_servo_control.set_servos(joints_pub, 1500, ((1, 200), (2, 500), (3, servo_data['servo3']),
                        (4, servo_data['servo4']),(5, servo_data['servo5']),(6, servo_data['servo6'])))
    time.sleep(1)
#comand6
    target = ik.setPitchRanges((-0.15, 0.12, 0.15), -40, -110, 0)
    if target:
        servo_data = target[1]
        bus_servo_control.set_servos(joints_pub, 1500, ((1, 200), (2, 500), (3, servo_data['servo3']),
                        (4, servo_data['servo4']),(5, servo_data['servo5']),(6, servo_data['servo6'])))
    time.sleep(1)
#comand8
    target = ik.setPitchRanges((0.15, 0.12, 0.15), -40, -110, 0)
    if target:
        servo_data = target[1]
        bus_servo_control.set_servos(joints_pub, 1500, ((1, 200), (2, 500), (3, servo_data['servo3']),
                        (4, servo_data['servo4']),(5, servo_data['servo5']),(6, servo_data['servo6'])))
    time.sleep(1)
#drift3
    if start:
	#linear velocity 60, direction angle 180, yaw speed -0.3
        set_velocity.publish(90,110,-0.3)
        rospy.sleep(3) 
        set_velocity.publish(90,0,0.3)
        rospy.sleep(3) 
        set_velocity.publish(0,0,0)
    time.sleep(1)
#square
    if start:
        #linear speed 60, direction angle 90, yaw angle 0
        set_velocity.publish(90,90,0) #robot moves foward
        rospy.sleep(1) 
        set_velocity.publish(90,0,0) #robot moves right
        rospy.sleep(1) 
        set_velocity.publish(90,270,0) #robot moves back
        rospy.sleep(1) 
        set_velocity.publish(90,180,0) #robot moves to the left
        #rospy.sleep(1)
    set_velocity.publish(0,0,0)  # stops robot at intial position
